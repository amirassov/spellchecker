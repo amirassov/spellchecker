{
 "cells": [
  {
   "cell_type": "code",
   "execution_count": 26,
   "metadata": {
    "collapsed": false
   },
   "outputs": [],
   "source": [
    "import time\n",
    "from collections import defaultdict, Counter\n",
    "import re\n",
    "import numpy as np"
   ]
  },
  {
   "cell_type": "markdown",
   "metadata": {},
   "source": [
    "О реализации:\n",
    "* Словарь хранится в префиксном дереве: https://en.wikipedia.org/wiki/Trie\n",
    "* Для нахождения ближайшей строки производится нечеткий поиск в дереве с автоматом Левенштейна\n",
    "* При поиске ближайшего слова минимизируется следующий функционал: $$dist(c\\mid q) - \\alpha \\cdot \\log freq(c) \\to min,$$ где $dist(c\\mid q)$ -- расстояние Левенштейна, а $freq(c)$ -- модель языка (частота слова)\n",
    "* Язык текста определяется как: $$language = \\arg max_{lang \\in rus, eng} count\\_lang\\_letters(text)$$"
   ]
  },
  {
   "cell_type": "code",
   "execution_count": 3,
   "metadata": {
    "collapsed": true
   },
   "outputs": [],
   "source": [
    "from spellchecker import SpellChecker"
   ]
  },
  {
   "cell_type": "code",
   "execution_count": 4,
   "metadata": {
    "collapsed": false
   },
   "outputs": [],
   "source": [
    "speller = SpellChecker('../data/rus.txt', '../data/eng.txt', max_dist=1, alpha=0.1)"
   ]
  },
  {
   "cell_type": "code",
   "execution_count": 5,
   "metadata": {
    "collapsed": false
   },
   "outputs": [
    {
     "name": "stdout",
     "output_type": "stream",
     "text": [
      "recenttly => recently\n",
      "Время работы 0.060220\n"
     ]
    }
   ],
   "source": [
    "start = time.time()\n",
    "print(\"recenttly => %s\" %speller.check('recenttly'))\n",
    "print(\"Время работы %f\" %(time.time() - start))"
   ]
  },
  {
   "cell_type": "code",
   "execution_count": 27,
   "metadata": {
    "collapsed": false
   },
   "outputs": [
    {
     "name": "stdout",
     "output_type": "stream",
     "text": [
      "руский => русский\n",
      "Время работы 0.027841\n"
     ]
    }
   ],
   "source": [
    "start = time.time()\n",
    "print(\"руский => %s\" %speller.check('руский'))\n",
    "print(\"Время работы %f\" %(time.time() - start))"
   ]
  },
  {
   "cell_type": "markdown",
   "metadata": {},
   "source": [
    "Для того, чтобы адекватно проверить работу **spellchecker'a** нужна выборка фраз с правильными и неправильными вариантами. Так как такая выборка не имеется, попробуем руками разметить ошибки на небольшом тексте и запустим наш **spellchecker**."
   ]
  },
  {
   "cell_type": "code",
   "execution_count": 7,
   "metadata": {
    "collapsed": false
   },
   "outputs": [],
   "source": [
    "test = open(\"../data/test.txt\").read()\n",
    "answer = open(\"../data/answer.txt\").read()\n",
    "\n",
    "test_words = SpellChecker.get_words(test)\n",
    "answer_words = SpellChecker.get_words(answer)"
   ]
  },
  {
   "cell_type": "markdown",
   "metadata": {},
   "source": [
    "### Исходный текст (взять рандомно из интернета):"
   ]
  },
  {
   "cell_type": "code",
   "execution_count": 8,
   "metadata": {
    "collapsed": false
   },
   "outputs": [
    {
     "data": {
      "text/plain": [
       "'Эта книга адресована всем, кто изучает русский язык. Но состоит она не из правил, упражнений и учебных текстов. Для этого созданы другие замечательные учебники.\\nУ этой книги совсем иная задача. Она поможет вам научиться не только разговаривать, но и размышлять по-русски. Книга, которую вы держите в руках, составлена из афоризмов и размышлений великих мыслителей, писателей, поэтов, философов и общественных деятелей различных эпох. Их мысли - о тех вопросах, которые не перестают волновать человечество.\\nВы можете соглашаться или не соглашаться с тем, что прочитаете в этой книге. Возможно, вам покажется, что какие-то мысли уже устарели. Но вы должны обязательно подумать и обосновать, почему вы так считаете.\\nА еще вы узнаете и почувствуете, как прекрасно звучат слова любви, сострадания, мудрости и доброты на русском языке.\\n'"
      ]
     },
     "execution_count": 8,
     "metadata": {},
     "output_type": "execute_result"
    }
   ],
   "source": [
    "answer"
   ]
  },
  {
   "cell_type": "markdown",
   "metadata": {},
   "source": [
    "### Исходный текст с сгенерированными ошибками:"
   ]
  },
  {
   "cell_type": "code",
   "execution_count": 9,
   "metadata": {
    "collapsed": false
   },
   "outputs": [
    {
     "data": {
      "text/plain": [
       "'Ета кнега адресавана всим, кта исучает руский изык. Но состаит ана не из правел, упражниний и учбных тикстов. Тля этаго сазданы другие замячательные учепники.\\nУ этай кнеги савсем иня зодача. Она паможет ввм научитьця не толко разгаваривать, но и размишлять по-руски. Кнега, каторую ви диржите в руках, саставлена из афоризмов и размишлений велеких мислителей, писятелей, паэтов, филосафов и общественых детелей разлиных эпах. Их мисли - о тех вопрасах, котарые не перетают валновать челавечество.\\nВв можите саглашаться иле не саглашаться с тем, что прачитаете в этай кнеге. Вазможно, вам покожется, щто кокие-то мисли уже усторели. Но вы далжны обизательно падумать и обасновать, пошему вы так ситаете.\\nА еще вы уснаете и почуствуете, как прикрасно звучят слова люви, сосрадания, мутрости и допроты на руском язике.\\n'"
      ]
     },
     "execution_count": 9,
     "metadata": {},
     "output_type": "execute_result"
    }
   ],
   "source": [
    "test"
   ]
  },
  {
   "cell_type": "code",
   "execution_count": 10,
   "metadata": {
    "collapsed": false
   },
   "outputs": [
    {
     "name": "stdout",
     "output_type": "stream",
     "text": [
      "124 слов. Время работы 1.279971 сек\n"
     ]
    }
   ],
   "source": [
    "start = time.time()\n",
    "spellanswer = speller.check(test)\n",
    "print(\"%d слов. Время работы %f сек\" %(len(test_words), \\\n",
    "                                       time.time() - start))"
   ]
  },
  {
   "cell_type": "code",
   "execution_count": 11,
   "metadata": {
    "collapsed": false
   },
   "outputs": [
    {
     "data": {
      "text/plain": [
       "'Эта книга адресована всем, кто изучает русский язык. Но состоит на не из провел, упражниний и ученых тикстов. Для этого созданы другие замечательные учепники.\\nУ этой книги совсем имя задача. Она поможет вам научиться не только разговаривать, но и размышлять по-руки. Книга, которую ви держите в руках, составлена из афоризмов и размышлений великих мислителей, писятелей, паэтов, филосафов и общественых деталей различных эпох. Их мысли - о тех вопросах, которые не передают валновать человечество.\\nВ можете саглашаться или не саглашаться с тем, что прачитаете в этой книге. Возможно, вам покажется, что какие-то мысли уже усторели. Но вы должны обязательно подумать и обосновать, почему вы так считаете.\\nА еще вы узнаете и почувствуете, как прекрасно звучит слова люди, сострадания, мудрости и доброты на куском ящике.\\n'"
      ]
     },
     "execution_count": 11,
     "metadata": {},
     "output_type": "execute_result"
    }
   ],
   "source": [
    "spellanswer"
   ]
  },
  {
   "cell_type": "code",
   "execution_count": 12,
   "metadata": {
    "collapsed": false
   },
   "outputs": [
    {
     "name": "stdout",
     "output_type": "stream",
     "text": [
      "Доля правильно исправленных слов: 0.790323\n"
     ]
    }
   ],
   "source": [
    "spellanswer_words = SpellChecker.get_words(spellanswer)\n",
    "print(\"Доля правильно исправленных слов: %f\" \\\n",
    "      %(np.sum(np.array(answer_words) == np.array(spellanswer_words)) / len(test_words)))"
   ]
  },
  {
   "cell_type": "code",
   "execution_count": null,
   "metadata": {
    "collapsed": true
   },
   "outputs": [],
   "source": []
  }
 ],
 "metadata": {
  "kernelspec": {
   "display_name": "Python 3",
   "language": "python",
   "name": "python3"
  },
  "language_info": {
   "codemirror_mode": {
    "name": "ipython",
    "version": 3
   },
   "file_extension": ".py",
   "mimetype": "text/x-python",
   "name": "python",
   "nbconvert_exporter": "python",
   "pygments_lexer": "ipython3",
   "version": "3.5.1"
  }
 },
 "nbformat": 4,
 "nbformat_minor": 0
}
