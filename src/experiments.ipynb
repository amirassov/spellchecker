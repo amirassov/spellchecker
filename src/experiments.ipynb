{
 "cells": [
  {
   "cell_type": "code",
   "execution_count": 7,
   "metadata": {
    "collapsed": false
   },
   "outputs": [],
   "source": [
    "import time\n",
    "import sys\n",
    "from collections import defaultdict, Counter\n",
    "import re"
   ]
  },
  {
   "cell_type": "code",
   "execution_count": 2,
   "metadata": {
    "collapsed": false
   },
   "outputs": [],
   "source": [
    "class Trie:\n",
    "    def __init__(self):\n",
    "        self.word = None\n",
    "        self.children = defaultdict(Trie)\n",
    "        \n",
    "    def insert(self, word):\n",
    "        node = self\n",
    "        for letter in word:\n",
    "            node = node.children[letter]\n",
    "        node.word = word"
   ]
  },
  {
   "cell_type": "code",
   "execution_count": 3,
   "metadata": {
    "collapsed": false
   },
   "outputs": [],
   "source": [
    "class LevenshteinAutomaton:\n",
    "    def __init__(self, word, max_dist):\n",
    "        self.word = word\n",
    "        self.max_dist = max_dist\n",
    "\n",
    "    def start(self):\n",
    "        return range(len(self.word) + 1)\n",
    "\n",
    "    def step(self, state, letter):\n",
    "        new_state = [state[0] + 1]\n",
    "        for i in range(len(state) - 1):\n",
    "            insert_state = new_state[i] + 1\n",
    "            replace_state = state[i] + (self.word[i] != letter)\n",
    "            delete_state = state[i + 1] + 1\n",
    "            new_state.append(min(insert_state, replace_state, delete_state))\n",
    "        return new_state\n",
    "\n",
    "    def is_match(self, state):\n",
    "        return state[-1] <= self.max_dist\n",
    "\n",
    "    def can_match(self, state):\n",
    "        return min(state) <= self.max_dist"
   ]
  },
  {
   "cell_type": "code",
   "execution_count": 4,
   "metadata": {
    "collapsed": true
   },
   "outputs": [],
   "source": [
    "class WordSearcher:\n",
    "    def __init__(self, trie, max_dist=1):\n",
    "        self.trie = trie\n",
    "        self.max_dist = max_dist\n",
    "        self.words = []\n",
    "        \n",
    "    def search(self, word):\n",
    "        automaton = LevenshteinAutomaton(word, self.max_dist)\n",
    "        state = automaton.start()\n",
    "        self.search_recursive(self.trie.children, automaton, state)\n",
    "        \n",
    "    def search_recursive(self, node, automaton, state):\n",
    "        for letter in node:\n",
    "            new_state = automaton.step(state, letter)\n",
    "            if automaton.is_match(new_state) and node[letter].word != None:\n",
    "                self.words.append((node[letter].word, new_state[-1]))\n",
    "            if automaton.can_match(new_state):\n",
    "                self.search_recursive(node[letter].children, automaton, new_state)"
   ]
  },
  {
   "cell_type": "code",
   "execution_count": 25,
   "metadata": {
    "collapsed": false
   },
   "outputs": [],
   "source": [
    "class SpellChecker:\n",
    "    def __init__(self, rus_dictionary, eng_dictionary, max_dist=1):\n",
    "        self.rus_trie = Trie()\n",
    "        for word in open(rus_dictionary, \"rt\").read().split():\n",
    "            trie.insert(word)\n",
    "        self.max_dist = max_dist\n",
    "    \n",
    "    #def check(self, text):\n",
    "        "
   ]
  },
  {
   "cell_type": "code",
   "execution_count": 191,
   "metadata": {
    "collapsed": true
   },
   "outputs": [],
   "source": [
    "trie = Trie()\n",
    "for word in ['a', 'as', 'asd', 'ae', 'awer']:\n",
    "    trie.insert( word )"
   ]
  },
  {
   "cell_type": "code",
   "execution_count": 194,
   "metadata": {
    "collapsed": false
   },
   "outputs": [
    {
     "data": {
      "text/plain": [
       "[('a', 3), ('awer', 3), ('ae', 2), ('as', 2), ('asd', 1)]"
      ]
     },
     "execution_count": 194,
     "metadata": {},
     "output_type": "execute_result"
    }
   ],
   "source": [
    "searcher = WordSearcher(trie, 5)\n",
    "searcher.search('asde')\n",
    "searcher.words"
   ]
  },
  {
   "cell_type": "code",
   "execution_count": 8,
   "metadata": {
    "collapsed": true
   },
   "outputs": [],
   "source": [
    "def words(text): \n",
    "    return re.findall(r'\\w+', text.lower())"
   ]
  },
  {
   "cell_type": "code",
   "execution_count": 23,
   "metadata": {
    "collapsed": false
   },
   "outputs": [],
   "source": [
    "eng = Counter(words(open('../data/eng.txt').read()))\n",
    "rus = Counter(words(open('../data/rus.txt').read()))"
   ]
  },
  {
   "cell_type": "code",
   "execution_count": null,
   "metadata": {
    "collapsed": true
   },
   "outputs": [],
   "source": []
  }
 ],
 "metadata": {
  "kernelspec": {
   "display_name": "Python 3",
   "language": "python",
   "name": "python3"
  },
  "language_info": {
   "codemirror_mode": {
    "name": "ipython",
    "version": 3
   },
   "file_extension": ".py",
   "mimetype": "text/x-python",
   "name": "python",
   "nbconvert_exporter": "python",
   "pygments_lexer": "ipython3",
   "version": "3.5.1"
  }
 },
 "nbformat": 4,
 "nbformat_minor": 0
}
