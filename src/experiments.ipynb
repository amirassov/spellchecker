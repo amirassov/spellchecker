{
 "cells": [
  {
   "cell_type": "code",
   "execution_count": 1,
   "metadata": {
    "collapsed": false
   },
   "outputs": [],
   "source": [
    "import time\n",
    "import sys\n",
    "from collections import defaultdict, Counter\n",
    "import re\n",
    "import numpy as np"
   ]
  },
  {
   "cell_type": "code",
   "execution_count": 2,
   "metadata": {
    "collapsed": false
   },
   "outputs": [],
   "source": [
    "class Trie:\n",
    "    def __init__(self):\n",
    "        self.word = None\n",
    "        self.probability = None\n",
    "        self.children = defaultdict(Trie)\n",
    "        \n",
    "    def insert(self, word, probability):\n",
    "        node = self\n",
    "        for letter in word:\n",
    "            node = node.children[letter]\n",
    "        node.word = word\n",
    "        node.probability = probability"
   ]
  },
  {
   "cell_type": "code",
   "execution_count": 3,
   "metadata": {
    "collapsed": false
   },
   "outputs": [],
   "source": [
    "class LevenshteinAutomaton:\n",
    "    \"\"\"\n",
    "    Automaton for calculate Levenshtein distance\n",
    "    \"\"\"\n",
    "    def __init__(self, word, max_dist):\n",
    "        self.word = word\n",
    "        self.max_dist = max_dist\n",
    "\n",
    "    def start(self):\n",
    "        return range(len(self.word) + 1)\n",
    "\n",
    "    def step(self, state, letter):\n",
    "        new_state = [state[0] + 1]\n",
    "        for i in range(len(state) - 1):\n",
    "            insert_state = new_state[i] + 1\n",
    "            replace_state = state[i] + (self.word[i] != letter)\n",
    "            delete_state = state[i + 1] + 1\n",
    "            new_state.append(min(insert_state, replace_state, delete_state))\n",
    "        return new_state\n",
    "\n",
    "    def is_match(self, state):\n",
    "        return state[-1] <= self.max_dist\n",
    "\n",
    "    def can_match(self, state):\n",
    "        return min(state) <= self.max_dist"
   ]
  },
  {
   "cell_type": "code",
   "execution_count": 4,
   "metadata": {
    "collapsed": false
   },
   "outputs": [],
   "source": [
    "class WordSearcher:\n",
    "    def __init__(self, trie, max_dist=1, alpha=0.1):\n",
    "        \"\"\"\n",
    "        Args:\n",
    "        trie (Trie): dictionary trie\n",
    "        max_dist (int): maximum distance Levenstein\n",
    "        alpha (float): parameter of model language\n",
    "        \"\"\"\n",
    "        self.trie = trie\n",
    "        self.max_dist = max_dist\n",
    "        self.alpha = alpha\n",
    "        \n",
    "    def search(self, word):\n",
    "        \"\"\"\n",
    "        Args:\n",
    "        word (string)\n",
    "        \n",
    "        Return:\n",
    "        a list of nearest (word, distance)\n",
    "        \n",
    "        Example:\n",
    "        'corect' =>\n",
    "        [('direct', 2.8976129598587455),\n",
    "         ('comet', 3.1622304395971579),\n",
    "         ('collect', 3.0746835658617675),\n",
    "         ('correct', 2.0287303329239235),\n",
    "         ('corrects', 3.3924889488965624),\n",
    "         ...]\n",
    "        \"\"\"\n",
    "        words = []\n",
    "        automaton = LevenshteinAutomaton(word, self.max_dist)\n",
    "        state = automaton.start()\n",
    "        self.search_recursive(self.trie.children, automaton, state, words)\n",
    "        return words\n",
    "        \n",
    "    def search_recursive(self, node, automaton, state, words):\n",
    "        \"\"\"\n",
    "        Support function for a previous\n",
    "        \"\"\"\n",
    "        for letter in node:\n",
    "            new_state = automaton.step(state, letter)\n",
    "            if automaton.is_match(new_state) and node[letter].word != None:\n",
    "                words.append((node[letter].word, new_state[-1] - self.alpha * np.log(node[letter].probability)))\n",
    "            if automaton.can_match(new_state):\n",
    "                self.search_recursive(node[letter].children, automaton, new_state, words)"
   ]
  },
  {
   "cell_type": "code",
   "execution_count": 5,
   "metadata": {
    "collapsed": false
   },
   "outputs": [],
   "source": [
    "class SpellChecker:\n",
    "    def __init__(self, rus_dictionary, eng_dictionary, max_dist=1, alpha=0.1):\n",
    "        \"\"\"\n",
    "        Args:\n",
    "        rus_dictionary (string): path of russian dictionary\n",
    "        eng_dictionary (string): path of english dictionary\n",
    "        max_dist (int): maximum distance Levenstein\n",
    "        alpha (float): parameter of model language\n",
    "        \"\"\"\n",
    "        self.searcher = {}\n",
    "        self.searcher['rus'] = WordSearcher(SpellChecker.get_trie(rus_dictionary), max_dist, alpha)\n",
    "        self.searcher['eng'] = WordSearcher(SpellChecker.get_trie(eng_dictionary), max_dist, alpha)\n",
    "        self.alpha = alpha\n",
    "        \n",
    "    @staticmethod\n",
    "    def get_trie(dictionary):\n",
    "        \"\"\"\n",
    "        dictionary (string) => trie (Trie)\n",
    "        \"\"\"\n",
    "        cnt = Counter(SpellChecker.get_words(open(dictionary).read().lower()))\n",
    "        trie = Trie()\n",
    "        N = sum(cnt.values())\n",
    "        for word, count in cnt.items():\n",
    "            trie.insert(word, count / N)\n",
    "        return trie\n",
    "    \n",
    "    @staticmethod\n",
    "    def get_words(text):\n",
    "        \"\"\"\n",
    "        'Я иду гулять.' => ['Я', 'иду', 'гулять']\n",
    "        \"\"\"\n",
    "        return re.findall(r'\\w+', text)\n",
    "    \n",
    "    @staticmethod\n",
    "    def get_punctuations(text):\n",
    "        \"\"\"\n",
    "        'Я иду гулять.' => [' ', ' ', '.']\n",
    "        \"\"\" \n",
    "        return re.findall(r'[^\\w]+', text)\n",
    "    \n",
    "    @staticmethod\n",
    "    def get_case(word, correct_word):\n",
    "        \"\"\"\n",
    "        шерлок => Шерлок\n",
    "        оон => ООН\n",
    "        \"\"\"\n",
    "        if word.istitle():\n",
    "            return correct_word.title()\n",
    "        if word.isupper():\n",
    "            return correct_word.upper()\n",
    "        return correct_word\n",
    "    \n",
    "    @staticmethod\n",
    "    def get_language(text):\n",
    "        \"\"\"\n",
    "        cat => eng\n",
    "        кот => rus\n",
    "        \"\"\"\n",
    "        eng_count = len(re.findall(r'[a-zA-Z]', text))\n",
    "        rus_count = len(re.findall(r'\\w', text)) - eng_count\n",
    "        return 'eng' if rus_count < eng_count else 'rus'\n",
    "        \n",
    "    def check(self, text):\n",
    "        \"\"\"\n",
    "        'стекляный' => 'стеклянный'\n",
    "        'corect' => 'correct'\n",
    "        \"\"\"\n",
    "        lang = SpellChecker.get_language(text)\n",
    "        words = SpellChecker.get_words(text)\n",
    "        punctuations = SpellChecker.get_punctuations(text)\n",
    "        correct_words = []\n",
    "        correct_text = [None] * (len(punctuations) + len(words))\n",
    "        \n",
    "        for word in words:\n",
    "            lower_word = word.lower()\n",
    "            candidates = self.searcher[lang].search(lower_word)\n",
    "            candidates.append((lower_word, np.inf))\n",
    "            correct_word = min(candidates, key=lambda x: x[1])[0]\n",
    "            correct_words.append(SpellChecker.get_case(word, correct_word))\n",
    "        \n",
    "        correct_text[::2] = correct_words\n",
    "        correct_text[1::2] = punctuations\n",
    "        return ''.join(correct_text)"
   ]
  },
  {
   "cell_type": "code",
   "execution_count": 6,
   "metadata": {
    "collapsed": false
   },
   "outputs": [],
   "source": [
    "speller = SpellChecker('../data/rus.txt', '../data/eng.txt', max_dist=1, alpha=0.1)"
   ]
  },
  {
   "cell_type": "code",
   "execution_count": 12,
   "metadata": {
    "collapsed": false
   },
   "outputs": [
    {
     "data": {
      "text/plain": [
       "'recently'"
      ]
     },
     "execution_count": 12,
     "metadata": {},
     "output_type": "execute_result"
    }
   ],
   "source": [
    "speller.check('recently')"
   ]
  }
 ],
 "metadata": {
  "kernelspec": {
   "display_name": "Python 3",
   "language": "python",
   "name": "python3"
  },
  "language_info": {
   "codemirror_mode": {
    "name": "ipython",
    "version": 3
   },
   "file_extension": ".py",
   "mimetype": "text/x-python",
   "name": "python",
   "nbconvert_exporter": "python",
   "pygments_lexer": "ipython3",
   "version": "3.5.1"
  }
 },
 "nbformat": 4,
 "nbformat_minor": 0
}
