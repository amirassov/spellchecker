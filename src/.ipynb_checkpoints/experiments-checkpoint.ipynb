{
 "cells": [
  {
   "cell_type": "code",
   "execution_count": 58,
   "metadata": {
    "collapsed": false
   },
   "outputs": [],
   "source": [
    "import time\n",
    "import sys\n",
    "from collections import defaultdict, Counter\n",
    "import re\n",
    "import numpy as np"
   ]
  },
  {
   "cell_type": "code",
   "execution_count": 52,
   "metadata": {
    "collapsed": false
   },
   "outputs": [],
   "source": [
    "class Trie:\n",
    "    def __init__(self):\n",
    "        self.word = None\n",
    "        self.probability = None\n",
    "        self.children = defaultdict(Trie)\n",
    "        \n",
    "    def insert(self, word, probability):\n",
    "        node = self\n",
    "        for letter in word:\n",
    "            node = node.children[letter]\n",
    "        node.word = word\n",
    "        node.probability = probability"
   ]
  },
  {
   "cell_type": "code",
   "execution_count": 53,
   "metadata": {
    "collapsed": false
   },
   "outputs": [],
   "source": [
    "class LevenshteinAutomaton:\n",
    "    def __init__(self, word, max_dist):\n",
    "        self.word = word\n",
    "        self.max_dist = max_dist\n",
    "\n",
    "    def start(self):\n",
    "        return range(len(self.word) + 1)\n",
    "\n",
    "    def step(self, state, letter):\n",
    "        new_state = [state[0] + 1]\n",
    "        for i in range(len(state) - 1):\n",
    "            insert_state = new_state[i] + 1\n",
    "            replace_state = state[i] + (self.word[i] != letter)\n",
    "            delete_state = state[i + 1] + 1\n",
    "            new_state.append(min(insert_state, replace_state, delete_state))\n",
    "        return new_state\n",
    "\n",
    "    def is_match(self, state):\n",
    "        return state[-1] <= self.max_dist\n",
    "\n",
    "    def can_match(self, state):\n",
    "        return min(state) <= self.max_dist"
   ]
  },
  {
   "cell_type": "code",
   "execution_count": 128,
   "metadata": {
    "collapsed": false
   },
   "outputs": [],
   "source": [
    "class WordSearcher:\n",
    "    def __init__(self, trie, max_dist=1):\n",
    "        self.trie = trie\n",
    "        self.max_dist = max_dist\n",
    "        \n",
    "    def search(self, word):\n",
    "        words = []\n",
    "        automaton = LevenshteinAutomaton(word, self.max_dist)\n",
    "        state = automaton.start()\n",
    "        self.search_recursive(self.trie.children, automaton, state, words)\n",
    "        return words\n",
    "        \n",
    "    def search_recursive(self, node, automaton, state, words):\n",
    "        for letter in node:\n",
    "            new_state = automaton.step(state, letter)\n",
    "            if automaton.is_match(new_state) and node[letter].word != None:\n",
    "                words.append((node[letter].word, new_state[-1] - 0.1 * np.log(node[letter].probability)))\n",
    "            if automaton.can_match(new_state):\n",
    "                self.search_recursive(node[letter].children, automaton, new_state, words)"
   ]
  },
  {
   "cell_type": "code",
   "execution_count": 131,
   "metadata": {
    "collapsed": false
   },
   "outputs": [],
   "source": [
    "class SpellChecker:\n",
    "    def __init__(self, rus_dictionary, eng_dictionary, max_dist=2):\n",
    "        self.rus_searcher = WordSearcher(SpellChecker.get_trie(rus_dictionary), max_dist)\n",
    "        self.eng_searcher = WordSearcher(SpellChecker.get_trie(eng_dictionary), max_dist)\n",
    "        \n",
    "    @staticmethod\n",
    "    def get_trie(dictionary):\n",
    "        cnt = Counter(words(open(dictionary).read()))\n",
    "        trie = Trie()\n",
    "        N = sum(cnt.values())\n",
    "        for word, count in cnt.items():\n",
    "            trie.insert(word, count / N)\n",
    "        return trie\n",
    "    \n",
    "    @staticmethod\n",
    "    def get_words(text):\n",
    "        return re.findall(r'\\w+', text.lower())\n",
    "    \n",
    "    @staticmethod\n",
    "    def get_language(text):\n",
    "        eng_count = len(re.findall(r'[a-z]', text))\n",
    "        rus_count = len(re.findall(r'\\w', text)) - eng_count\n",
    "        return 'eng' if rus_count < eng_count else 'rus'\n",
    "        \n",
    "    def check(self, text):\n",
    "        lang = SpellChecker.get_language(text)\n",
    "        words = SpellChecker.get_words(text)\n",
    "        correct_text = []\n",
    "        \n",
    "        if lang == 'rus':\n",
    "            for word in words:\n",
    "                candidates = self.rus_searcher.search(word)\n",
    "                correct_text.append(min(candidates, key=lambda x: x[1])[0])\n",
    "                \n",
    "        if lang == 'eng':\n",
    "            for word in words:\n",
    "                candidates = self.eng_searcher.search(word)\n",
    "                correct_text.append(min(candidates, key=lambda x: x[1])[0])\n",
    "        \n",
    "        return correct_text"
   ]
  },
  {
   "cell_type": "code",
   "execution_count": 132,
   "metadata": {
    "collapsed": false
   },
   "outputs": [],
   "source": [
    "speller = SpellChecker('../data/rus.txt', '../data/eng.txt')"
   ]
  },
  {
   "cell_type": "code",
   "execution_count": 142,
   "metadata": {
    "collapsed": false
   },
   "outputs": [
    {
     "data": {
      "text/plain": [
       "['i', 'am', 'dog']"
      ]
     },
     "execution_count": 142,
     "metadata": {},
     "output_type": "execute_result"
    }
   ],
   "source": [
    "speller.check('i am dogq')"
   ]
  },
  {
   "cell_type": "code",
   "execution_count": 122,
   "metadata": {
    "collapsed": false
   },
   "outputs": [
    {
     "data": {
      "text/plain": [
       "0.0066631044272627196"
      ]
     },
     "execution_count": 122,
     "metadata": {},
     "output_type": "execute_result"
    }
   ],
   "source": [
    "speller.rus_searcher.trie.children['я'].probability"
   ]
  },
  {
   "cell_type": "code",
   "execution_count": null,
   "metadata": {
    "collapsed": true
   },
   "outputs": [],
   "source": []
  }
 ],
 "metadata": {
  "kernelspec": {
   "display_name": "Python 3",
   "language": "python",
   "name": "python3"
  },
  "language_info": {
   "codemirror_mode": {
    "name": "ipython",
    "version": 3
   },
   "file_extension": ".py",
   "mimetype": "text/x-python",
   "name": "python",
   "nbconvert_exporter": "python",
   "pygments_lexer": "ipython3",
   "version": "3.5.1"
  }
 },
 "nbformat": 4,
 "nbformat_minor": 0
}
